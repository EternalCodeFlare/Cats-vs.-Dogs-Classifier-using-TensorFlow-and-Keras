{
  "nbformat": 4,
  "nbformat_minor": 0,
  "metadata": {
    "colab": {
      "name": "Cats_Dogs Classifier 2.ipynb",
      "provenance": [],
      "collapsed_sections": []
    },
    "kernelspec": {
      "name": "python3",
      "display_name": "Python 3"
    },
    "accelerator": "GPU"
  },
  "cells": [
    {
      "cell_type": "markdown",
      "metadata": {
        "id": "opNrbfGoSHc6"
      },
      "source": [
        "# Getting the data"
      ]
    },
    {
      "cell_type": "code",
      "metadata": {
        "colab": {
          "base_uri": "https://localhost:8080/"
        },
        "id": "-lfEgm9nR3qQ",
        "outputId": "c1e7b3f9-f1f7-4be3-e8ea-c0094b7a8c4b"
      },
      "source": [
        "!wget --no-check-certificate \\\r\n",
        "  https://storage.googleapis.com/mledu-datasets/cats_and_dogs_filtered.zip \\\r\n",
        "  -O /tmp/cats_and_dogs_filtered.zip"
      ],
      "execution_count": 1,
      "outputs": [
        {
          "output_type": "stream",
          "text": [
            "--2021-01-24 16:10:48--  https://storage.googleapis.com/mledu-datasets/cats_and_dogs_filtered.zip\n",
            "Resolving storage.googleapis.com (storage.googleapis.com)... 172.217.15.112, 172.253.63.128, 142.250.31.128, ...\n",
            "Connecting to storage.googleapis.com (storage.googleapis.com)|172.217.15.112|:443... connected.\n",
            "HTTP request sent, awaiting response... 200 OK\n",
            "Length: 68606236 (65M) [application/zip]\n",
            "Saving to: ‘/tmp/cats_and_dogs_filtered.zip’\n",
            "\n",
            "/tmp/cats_and_dogs_ 100%[===================>]  65.43M   214MB/s    in 0.3s    \n",
            "\n",
            "2021-01-24 16:10:49 (214 MB/s) - ‘/tmp/cats_and_dogs_filtered.zip’ saved [68606236/68606236]\n",
            "\n"
          ],
          "name": "stdout"
        }
      ]
    },
    {
      "cell_type": "code",
      "metadata": {
        "id": "IVUMgIfNSMl4"
      },
      "source": [
        "import os\r\n",
        "import zipfile\r\n",
        "\r\n",
        "local_zip = '/tmp/cats_and_dogs_filtered.zip'\r\n",
        "zip_ref = zipfile.ZipFile(local_zip,'r')\r\n",
        "zip_ref.extractall('/tmp')\r\n",
        "zip_ref.close()"
      ],
      "execution_count": 2,
      "outputs": []
    },
    {
      "cell_type": "code",
      "metadata": {
        "id": "VK5-Oqp4VQYl"
      },
      "source": [
        "base_dir = '/tmp/cats_and_dogs_filtered'\r\n",
        "\r\n",
        "train_dir = os.path.join(base_dir, 'train')\r\n",
        "validation_dir = os.path.join(base_dir, 'validation')\r\n",
        "\r\n",
        "train_cats_dir = os.path.join(train_dir, 'cats')\r\n",
        "train_dogs_dir = os.path.join(train_dir, 'dogs')\r\n",
        "\r\n",
        "validation_cats_dir = os.path.join(validation_dir, 'cats')\r\n",
        "validation_dogs_dir = os.path.join(validation_dir, 'dogs')"
      ],
      "execution_count": 3,
      "outputs": []
    },
    {
      "cell_type": "code",
      "metadata": {
        "id": "l7_FJqO-VYD1"
      },
      "source": [
        ""
      ],
      "execution_count": null,
      "outputs": []
    },
    {
      "cell_type": "markdown",
      "metadata": {
        "id": "_T1tkoQyWqam"
      },
      "source": [
        "# Model"
      ]
    },
    {
      "cell_type": "code",
      "metadata": {
        "id": "vFcWFq24WsI1"
      },
      "source": [
        "import tensorflow as tf\r\n",
        "from tensorflow import keras\r\n",
        "import numpy as np"
      ],
      "execution_count": 4,
      "outputs": []
    },
    {
      "cell_type": "code",
      "metadata": {
        "id": "awBVR8btYXUz"
      },
      "source": [
        "model = keras.models.Sequential([\r\n",
        "            keras.layers.Conv2D(16, (3,3), activation='relu', input_shape = (150,150,3)),\r\n",
        "            keras.layers.MaxPooling2D(2,2),\r\n",
        "            keras.layers.Conv2D(32,(3,3),activation=keras.activations.relu),\r\n",
        "            keras.layers.MaxPooling2D(2,2),\r\n",
        "            keras.layers.Conv2D(64,(3,3),activation='relu'),\r\n",
        "            keras.layers.MaxPooling2D(2,2),\r\n",
        "            keras.layers.Flatten(),\r\n",
        "            keras.layers.Dense(512,activation='relu'),\r\n",
        "            keras.layers.Dense(1,activation='sigmoid')         \r\n",
        "])"
      ],
      "execution_count": 5,
      "outputs": []
    },
    {
      "cell_type": "code",
      "metadata": {
        "colab": {
          "base_uri": "https://localhost:8080/"
        },
        "id": "ndnVfJDIW7si",
        "outputId": "8bd33e1d-cea6-4f1c-91c1-cc0dc3c34842"
      },
      "source": [
        "model.summary()"
      ],
      "execution_count": 6,
      "outputs": [
        {
          "output_type": "stream",
          "text": [
            "Model: \"sequential\"\n",
            "_________________________________________________________________\n",
            "Layer (type)                 Output Shape              Param #   \n",
            "=================================================================\n",
            "conv2d (Conv2D)              (None, 148, 148, 16)      448       \n",
            "_________________________________________________________________\n",
            "max_pooling2d (MaxPooling2D) (None, 74, 74, 16)        0         \n",
            "_________________________________________________________________\n",
            "conv2d_1 (Conv2D)            (None, 72, 72, 32)        4640      \n",
            "_________________________________________________________________\n",
            "max_pooling2d_1 (MaxPooling2 (None, 36, 36, 32)        0         \n",
            "_________________________________________________________________\n",
            "conv2d_2 (Conv2D)            (None, 34, 34, 64)        18496     \n",
            "_________________________________________________________________\n",
            "max_pooling2d_2 (MaxPooling2 (None, 17, 17, 64)        0         \n",
            "_________________________________________________________________\n",
            "flatten (Flatten)            (None, 18496)             0         \n",
            "_________________________________________________________________\n",
            "dense (Dense)                (None, 512)               9470464   \n",
            "_________________________________________________________________\n",
            "dense_1 (Dense)              (None, 1)                 513       \n",
            "=================================================================\n",
            "Total params: 9,494,561\n",
            "Trainable params: 9,494,561\n",
            "Non-trainable params: 0\n",
            "_________________________________________________________________\n"
          ],
          "name": "stdout"
        }
      ]
    },
    {
      "cell_type": "code",
      "metadata": {
        "id": "2P6x13u8W_DL"
      },
      "source": [
        "model.compile(optimizer='Adam',loss='binary_crossentropy',metrics=['accuracy'])"
      ],
      "execution_count": 7,
      "outputs": []
    },
    {
      "cell_type": "code",
      "metadata": {
        "colab": {
          "base_uri": "https://localhost:8080/"
        },
        "id": "jbeJ0RR3XUYg",
        "outputId": "f94f90ff-9ad7-4678-e9d5-353150047ba0"
      },
      "source": [
        "from keras_preprocessing.image import ImageDataGenerator\r\n",
        "\r\n",
        "# Image Augmentation\r\n",
        "train_datagen = ImageDataGenerator(\r\n",
        "            rescale = 1./255,\r\n",
        "            rotation_range = 40,\r\n",
        "            width_shift_range = 0.2,\r\n",
        "            height_shift_range = 0.2,\r\n",
        "            shear_range = 0.2,\r\n",
        "            zoom_range = 0.2,\r\n",
        "            horizontal_flip = True,\r\n",
        "            fill_mode = 'nearest')\r\n",
        "\r\n",
        "test_datagen = ImageDataGenerator(rescale = 1./255)\r\n",
        "\r\n",
        "# --------------------\r\n",
        "# Flow training images in batches of 20 using train_datagen generator\r\n",
        "# --------------------\r\n",
        "train_generator = train_datagen.flow_from_directory(train_dir,\r\n",
        "                                                    batch_size=20,\r\n",
        "                                                    class_mode='binary',\r\n",
        "                                                    target_size=(150, 150))     \r\n",
        "# --------------------\r\n",
        "# Flow validation images in batches of 20 using test_datagen generator\r\n",
        "# --------------------\r\n",
        "validation_generator =  test_datagen.flow_from_directory(validation_dir,\r\n",
        "                                                         batch_size=20,\r\n",
        "                                                         class_mode  = 'binary',\r\n",
        "                                                         target_size = (150, 150))"
      ],
      "execution_count": 8,
      "outputs": [
        {
          "output_type": "stream",
          "text": [
            "Found 2000 images belonging to 2 classes.\n",
            "Found 1000 images belonging to 2 classes.\n"
          ],
          "name": "stdout"
        }
      ]
    },
    {
      "cell_type": "code",
      "metadata": {
        "colab": {
          "base_uri": "https://localhost:8080/"
        },
        "id": "umQaNhVBYkE-",
        "outputId": "06b97272-ea85-499c-d72a-e4e17f5730f9"
      },
      "source": [
        "history = model.fit(train_generator, validation_data=validation_generator, epochs=50, steps_per_epoch=100, validation_steps=50, verbose=1)"
      ],
      "execution_count": 9,
      "outputs": [
        {
          "output_type": "stream",
          "text": [
            "Epoch 1/50\n",
            "100/100 [==============================] - 24s 166ms/step - loss: 0.8249 - accuracy: 0.4990 - val_loss: 0.6914 - val_accuracy: 0.5250\n",
            "Epoch 2/50\n",
            "100/100 [==============================] - 16s 164ms/step - loss: 0.6925 - accuracy: 0.5280 - val_loss: 0.6899 - val_accuracy: 0.5400\n",
            "Epoch 3/50\n",
            "100/100 [==============================] - 16s 162ms/step - loss: 0.6889 - accuracy: 0.5472 - val_loss: 0.6872 - val_accuracy: 0.5710\n",
            "Epoch 4/50\n",
            "100/100 [==============================] - 16s 164ms/step - loss: 0.6786 - accuracy: 0.5752 - val_loss: 0.6763 - val_accuracy: 0.5750\n",
            "Epoch 5/50\n",
            "100/100 [==============================] - 16s 165ms/step - loss: 0.6634 - accuracy: 0.6088 - val_loss: 0.6402 - val_accuracy: 0.6420\n",
            "Epoch 6/50\n",
            "100/100 [==============================] - 17s 166ms/step - loss: 0.6579 - accuracy: 0.6085 - val_loss: 0.6109 - val_accuracy: 0.6640\n",
            "Epoch 7/50\n",
            "100/100 [==============================] - 16s 164ms/step - loss: 0.6331 - accuracy: 0.6357 - val_loss: 0.5988 - val_accuracy: 0.6590\n",
            "Epoch 8/50\n",
            "100/100 [==============================] - 17s 166ms/step - loss: 0.6307 - accuracy: 0.6504 - val_loss: 0.6318 - val_accuracy: 0.6050\n",
            "Epoch 9/50\n",
            "100/100 [==============================] - 17s 165ms/step - loss: 0.6066 - accuracy: 0.6619 - val_loss: 0.6040 - val_accuracy: 0.6760\n",
            "Epoch 10/50\n",
            "100/100 [==============================] - 17s 168ms/step - loss: 0.6150 - accuracy: 0.6678 - val_loss: 0.6479 - val_accuracy: 0.6520\n",
            "Epoch 11/50\n",
            "100/100 [==============================] - 17s 168ms/step - loss: 0.6083 - accuracy: 0.6766 - val_loss: 0.5788 - val_accuracy: 0.7050\n",
            "Epoch 12/50\n",
            "100/100 [==============================] - 17s 167ms/step - loss: 0.5762 - accuracy: 0.7111 - val_loss: 0.6051 - val_accuracy: 0.6890\n",
            "Epoch 13/50\n",
            "100/100 [==============================] - 16s 164ms/step - loss: 0.5798 - accuracy: 0.6927 - val_loss: 0.5672 - val_accuracy: 0.6970\n",
            "Epoch 14/50\n",
            "100/100 [==============================] - 17s 168ms/step - loss: 0.5671 - accuracy: 0.7025 - val_loss: 0.5574 - val_accuracy: 0.7100\n",
            "Epoch 15/50\n",
            "100/100 [==============================] - 17s 169ms/step - loss: 0.5535 - accuracy: 0.7064 - val_loss: 0.5495 - val_accuracy: 0.7170\n",
            "Epoch 16/50\n",
            "100/100 [==============================] - 16s 164ms/step - loss: 0.5427 - accuracy: 0.7251 - val_loss: 0.5649 - val_accuracy: 0.7030\n",
            "Epoch 17/50\n",
            "100/100 [==============================] - 17s 167ms/step - loss: 0.5334 - accuracy: 0.7332 - val_loss: 0.5432 - val_accuracy: 0.7330\n",
            "Epoch 18/50\n",
            "100/100 [==============================] - 16s 164ms/step - loss: 0.5462 - accuracy: 0.7060 - val_loss: 0.5435 - val_accuracy: 0.7140\n",
            "Epoch 19/50\n",
            "100/100 [==============================] - 16s 163ms/step - loss: 0.5372 - accuracy: 0.7327 - val_loss: 0.5181 - val_accuracy: 0.7500\n",
            "Epoch 20/50\n",
            "100/100 [==============================] - 16s 163ms/step - loss: 0.5366 - accuracy: 0.7394 - val_loss: 0.5245 - val_accuracy: 0.7480\n",
            "Epoch 21/50\n",
            "100/100 [==============================] - 17s 166ms/step - loss: 0.5249 - accuracy: 0.7361 - val_loss: 0.5251 - val_accuracy: 0.7400\n",
            "Epoch 22/50\n",
            "100/100 [==============================] - 16s 163ms/step - loss: 0.5272 - accuracy: 0.7384 - val_loss: 0.4941 - val_accuracy: 0.7510\n",
            "Epoch 23/50\n",
            "100/100 [==============================] - 16s 165ms/step - loss: 0.5169 - accuracy: 0.7289 - val_loss: 0.5440 - val_accuracy: 0.7400\n",
            "Epoch 24/50\n",
            "100/100 [==============================] - 17s 165ms/step - loss: 0.5203 - accuracy: 0.7470 - val_loss: 0.5019 - val_accuracy: 0.7600\n",
            "Epoch 25/50\n",
            "100/100 [==============================] - 17s 166ms/step - loss: 0.5324 - accuracy: 0.7426 - val_loss: 0.5610 - val_accuracy: 0.7220\n",
            "Epoch 26/50\n",
            "100/100 [==============================] - 16s 164ms/step - loss: 0.5138 - accuracy: 0.7650 - val_loss: 0.5490 - val_accuracy: 0.7220\n",
            "Epoch 27/50\n",
            "100/100 [==============================] - 16s 164ms/step - loss: 0.4718 - accuracy: 0.7654 - val_loss: 0.5640 - val_accuracy: 0.7090\n",
            "Epoch 28/50\n",
            "100/100 [==============================] - 16s 165ms/step - loss: 0.5009 - accuracy: 0.7551 - val_loss: 0.4718 - val_accuracy: 0.7700\n",
            "Epoch 29/50\n",
            "100/100 [==============================] - 16s 165ms/step - loss: 0.4936 - accuracy: 0.7630 - val_loss: 0.4934 - val_accuracy: 0.7610\n",
            "Epoch 30/50\n",
            "100/100 [==============================] - 16s 165ms/step - loss: 0.4719 - accuracy: 0.7824 - val_loss: 0.5086 - val_accuracy: 0.7460\n",
            "Epoch 31/50\n",
            "100/100 [==============================] - 16s 164ms/step - loss: 0.4650 - accuracy: 0.7672 - val_loss: 0.5273 - val_accuracy: 0.7180\n",
            "Epoch 32/50\n",
            "100/100 [==============================] - 17s 166ms/step - loss: 0.4782 - accuracy: 0.7725 - val_loss: 0.5010 - val_accuracy: 0.7500\n",
            "Epoch 33/50\n",
            "100/100 [==============================] - 17s 168ms/step - loss: 0.4717 - accuracy: 0.7662 - val_loss: 0.4877 - val_accuracy: 0.7530\n",
            "Epoch 34/50\n",
            "100/100 [==============================] - 16s 165ms/step - loss: 0.4777 - accuracy: 0.7741 - val_loss: 0.4943 - val_accuracy: 0.7630\n",
            "Epoch 35/50\n",
            "100/100 [==============================] - 17s 168ms/step - loss: 0.4989 - accuracy: 0.7496 - val_loss: 0.4884 - val_accuracy: 0.7650\n",
            "Epoch 36/50\n",
            "100/100 [==============================] - 16s 164ms/step - loss: 0.4716 - accuracy: 0.7666 - val_loss: 0.4711 - val_accuracy: 0.7720\n",
            "Epoch 37/50\n",
            "100/100 [==============================] - 17s 165ms/step - loss: 0.4376 - accuracy: 0.7976 - val_loss: 0.5027 - val_accuracy: 0.7540\n",
            "Epoch 38/50\n",
            "100/100 [==============================] - 16s 164ms/step - loss: 0.4609 - accuracy: 0.7882 - val_loss: 0.5031 - val_accuracy: 0.7580\n",
            "Epoch 39/50\n",
            "100/100 [==============================] - 16s 165ms/step - loss: 0.4216 - accuracy: 0.8042 - val_loss: 0.4609 - val_accuracy: 0.7760\n",
            "Epoch 40/50\n",
            "100/100 [==============================] - 17s 166ms/step - loss: 0.4428 - accuracy: 0.7997 - val_loss: 0.4878 - val_accuracy: 0.7650\n",
            "Epoch 41/50\n",
            "100/100 [==============================] - 17s 166ms/step - loss: 0.4479 - accuracy: 0.8068 - val_loss: 0.4640 - val_accuracy: 0.7710\n",
            "Epoch 42/50\n",
            "100/100 [==============================] - 17s 168ms/step - loss: 0.4350 - accuracy: 0.7964 - val_loss: 0.4685 - val_accuracy: 0.7820\n",
            "Epoch 43/50\n",
            "100/100 [==============================] - 17s 167ms/step - loss: 0.4297 - accuracy: 0.8028 - val_loss: 0.4796 - val_accuracy: 0.7690\n",
            "Epoch 44/50\n",
            "100/100 [==============================] - 17s 168ms/step - loss: 0.4368 - accuracy: 0.7884 - val_loss: 0.5563 - val_accuracy: 0.7190\n",
            "Epoch 45/50\n",
            "100/100 [==============================] - 17s 165ms/step - loss: 0.4559 - accuracy: 0.7853 - val_loss: 0.4590 - val_accuracy: 0.7830\n",
            "Epoch 46/50\n",
            "100/100 [==============================] - 16s 164ms/step - loss: 0.4160 - accuracy: 0.8107 - val_loss: 0.5145 - val_accuracy: 0.7670\n",
            "Epoch 47/50\n",
            "100/100 [==============================] - 16s 163ms/step - loss: 0.4087 - accuracy: 0.8107 - val_loss: 0.4841 - val_accuracy: 0.7690\n",
            "Epoch 48/50\n",
            "100/100 [==============================] - 17s 166ms/step - loss: 0.4137 - accuracy: 0.8083 - val_loss: 0.4868 - val_accuracy: 0.7640\n",
            "Epoch 49/50\n",
            "100/100 [==============================] - 16s 165ms/step - loss: 0.4248 - accuracy: 0.7972 - val_loss: 0.4966 - val_accuracy: 0.7770\n",
            "Epoch 50/50\n",
            "100/100 [==============================] - 16s 165ms/step - loss: 0.4166 - accuracy: 0.7997 - val_loss: 0.4659 - val_accuracy: 0.7820\n"
          ],
          "name": "stdout"
        }
      ]
    },
    {
      "cell_type": "code",
      "metadata": {
        "colab": {
          "base_uri": "https://localhost:8080/",
          "height": 562
        },
        "id": "3Hghwp-AZdro",
        "outputId": "55b7a0e2-b325-447b-f6aa-4adc8721e497"
      },
      "source": [
        "import matplotlib.image as mpimg\r\n",
        "import matplotlib.pyplot as plt\r\n",
        "\r\n",
        "acc = history.history['accuracy']\r\n",
        "val_acc = history.history['val_accuracy']\r\n",
        "loss = history.history['loss']\r\n",
        "val_loss = history.history['val_loss']\r\n",
        "\r\n",
        "epochs = range(len(acc))\r\n",
        "\r\n",
        "# Plotting the training and validation accuracy per epoch\r\n",
        "plt.plot(epochs, acc)\r\n",
        "plt.plot(epochs, val_acc)\r\n",
        "plt.title(\"Training and validation accuracy\")\r\n",
        "plt.figure()\r\n",
        "\r\n",
        "#Plotting the traning and validation loss per epoch\r\n",
        "plt.plot(epochs, loss)\r\n",
        "plt.plot(epochs, val_loss)\r\n",
        "plt.title('Training and validation loss')"
      ],
      "execution_count": 10,
      "outputs": [
        {
          "output_type": "execute_result",
          "data": {
            "text/plain": [
              "Text(0.5, 1.0, 'Training and validation loss')"
            ]
          },
          "metadata": {
            "tags": []
          },
          "execution_count": 10
        },
        {
          "output_type": "display_data",
          "data": {
            "image/png": "[encoded data removed]",
            "text/plain": [
              "<Figure size 432x288 with 1 Axes>"
            ]
          },
          "metadata": {
            "tags": [],
            "needs_background": "light"
          }
        },
        {
          "output_type": "display_data",
          "data": {
            "image/png": "[encoded data removed]",
            "text/plain": [
              "<Figure size 432x288 with 1 Axes>"
            ]
          },
          "metadata": {
            "tags": [],
            "needs_background": "light"
          }
        }
      ]
    },
    {
      "cell_type": "code",
      "metadata": {
        "id": "rOiuPxJ2e1oL"
      },
      "source": [
        ""
      ],
      "execution_count": null,
      "outputs": []
    }
  ]
}